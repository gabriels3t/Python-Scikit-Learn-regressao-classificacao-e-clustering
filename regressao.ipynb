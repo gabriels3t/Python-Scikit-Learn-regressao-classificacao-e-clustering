{
  "nbformat": 4,
  "nbformat_minor": 0,
  "metadata": {
    "colab": {
      "name": "regressao.ipynb",
      "provenance": [],
      "authorship_tag": "ABX9TyOwBO4p1361ywnFUEj03Tkq",
      "include_colab_link": true
    },
    "kernelspec": {
      "name": "python3",
      "display_name": "Python 3"
    }
  },
  "cells": [
    {
      "cell_type": "markdown",
      "metadata": {
        "id": "view-in-github",
        "colab_type": "text"
      },
      "source": [
        "<a href=\"https://colab.research.google.com/github/gabriels3t/Python-Scikit-Learn-regressao-classificacao-e-clustering/blob/main/regressao.ipynb\" target=\"_parent\"><img src=\"https://colab.research.google.com/assets/colab-badge.svg\" alt=\"Open In Colab\"/></a>"
      ]
    },
    {
      "cell_type": "code",
      "metadata": {
        "id": "x9Wj074o9OyE"
      },
      "source": [
        "import pandas as pd \n",
        "import seaborn as sns\n",
        "from sklearn.model_selection import  train_test_split\n",
        "from sklearn import linear_model\n",
        "import numpy as np"
      ],
      "execution_count": 23,
      "outputs": []
    },
    {
      "cell_type": "code",
      "metadata": {
        "colab": {
          "base_uri": "https://localhost:8080/",
          "height": 206
        },
        "id": "x67bjszF9ZFy",
        "outputId": "2508fc9d-eefa-40db-8d01-465b13a9534e"
      },
      "source": [
        "\n",
        "passageiros = pd.read_csv('data/Passageiros.csv')\n",
        "passageiros.head()\n"
      ],
      "execution_count": 3,
      "outputs": [
        {
          "output_type": "execute_result",
          "data": {
            "text/html": [
              "<div>\n",
              "<style scoped>\n",
              "    .dataframe tbody tr th:only-of-type {\n",
              "        vertical-align: middle;\n",
              "    }\n",
              "\n",
              "    .dataframe tbody tr th {\n",
              "        vertical-align: top;\n",
              "    }\n",
              "\n",
              "    .dataframe thead th {\n",
              "        text-align: right;\n",
              "    }\n",
              "</style>\n",
              "<table border=\"1\" class=\"dataframe\">\n",
              "  <thead>\n",
              "    <tr style=\"text-align: right;\">\n",
              "      <th></th>\n",
              "      <th>tempo</th>\n",
              "      <th>nPassageiros</th>\n",
              "    </tr>\n",
              "  </thead>\n",
              "  <tbody>\n",
              "    <tr>\n",
              "      <th>0</th>\n",
              "      <td>1949.000000</td>\n",
              "      <td>112</td>\n",
              "    </tr>\n",
              "    <tr>\n",
              "      <th>1</th>\n",
              "      <td>1949.083333</td>\n",
              "      <td>118</td>\n",
              "    </tr>\n",
              "    <tr>\n",
              "      <th>2</th>\n",
              "      <td>1949.166667</td>\n",
              "      <td>132</td>\n",
              "    </tr>\n",
              "    <tr>\n",
              "      <th>3</th>\n",
              "      <td>1949.250000</td>\n",
              "      <td>129</td>\n",
              "    </tr>\n",
              "    <tr>\n",
              "      <th>4</th>\n",
              "      <td>1949.333333</td>\n",
              "      <td>121</td>\n",
              "    </tr>\n",
              "  </tbody>\n",
              "</table>\n",
              "</div>"
            ],
            "text/plain": [
              "         tempo  nPassageiros\n",
              "0  1949.000000           112\n",
              "1  1949.083333           118\n",
              "2  1949.166667           132\n",
              "3  1949.250000           129\n",
              "4  1949.333333           121"
            ]
          },
          "metadata": {
            "tags": []
          },
          "execution_count": 3
        }
      ]
    },
    {
      "cell_type": "code",
      "metadata": {
        "colab": {
          "base_uri": "https://localhost:8080/",
          "height": 279
        },
        "id": "Lg0oNZDfAFcE",
        "outputId": "bc3c2d0e-c938-4c25-d6c4-c8d5f8802322"
      },
      "source": [
        "ax = sns.lineplot(x='tempo', y='nPassageiros', data=passageiros)"
      ],
      "execution_count": 13,
      "outputs": [
        {
          "output_type": "display_data",
          "data": {
            "image/png": "[encoded data removed]",
            "text/plain": [
              "<Figure size 432x288 with 1 Axes>"
            ]
          },
          "metadata": {
            "tags": [],
            "needs_background": "light"
          }
        }
      ]
    },
    {
      "cell_type": "markdown",
      "metadata": {
        "id": "Y0oqwHPsE76k"
      },
      "source": [
        "# Fazendo a regreção linear \n"
      ]
    },
    {
      "cell_type": "code",
      "metadata": {
        "id": "2v8GZqDFE4r_"
      },
      "source": [
        "tempo = passageiros.iloc[:,:-1].values\n",
        "nPassageiros = passageiros.iloc[:,1].values"
      ],
      "execution_count": 16,
      "outputs": []
    },
    {
      "cell_type": "markdown",
      "metadata": {
        "id": "3LlTKXZdFofi"
      },
      "source": [
        "**Separandos os dados de treino e os de teste**\n"
      ]
    },
    {
      "cell_type": "code",
      "metadata": {
        "id": "sBBi76DnFqH6"
      },
      "source": [
        "tempo_treino,tempo_teste,nPassageiros_treino,nPassageiros_teste= train_test_split(tempo,nPassageiros,test_size = 0.3 ) # test_size porcentagem para testar 0 sendo 0 e 1 sendo 100%"
      ],
      "execution_count": 18,
      "outputs": []
    },
    {
      "cell_type": "markdown",
      "metadata": {
        "id": "QDXR21d4GyO9"
      },
      "source": [
        "**Regressão linear**\n"
      ]
    },
    {
      "cell_type": "code",
      "metadata": {
        "id": "dlLGET8XGvyw"
      },
      "source": [
        "regressor = linear_model.LinearRegression()"
      ],
      "execution_count": 20,
      "outputs": []
    },
    {
      "cell_type": "code",
      "metadata": {
        "colab": {
          "base_uri": "https://localhost:8080/"
        },
        "id": "ctokyXxHHco7",
        "outputId": "11f2d874-1a7d-4c23-eee2-1bad3767f2f5"
      },
      "source": [
        "regressor.fit(tempo_treino,nPassageiros_treino) #treinando"
      ],
      "execution_count": 21,
      "outputs": [
        {
          "output_type": "execute_result",
          "data": {
            "text/plain": [
              "LinearRegression(copy_X=True, fit_intercept=True, n_jobs=None, normalize=False)"
            ]
          },
          "metadata": {
            "tags": []
          },
          "execution_count": 21
        }
      ]
    },
    {
      "cell_type": "code",
      "metadata": {
        "id": "hOx0F2QoHtOE"
      },
      "source": [
        "nPassageiros_predito = regressor.predict(tempo_teste)"
      ],
      "execution_count": 22,
      "outputs": []
    },
    {
      "cell_type": "code",
      "metadata": {
        "id": "QZO6BlJcH5iw"
      },
      "source": [
        "passageiros_predito = pd.DataFrame({'tempo':np.ndarray.flatten(tempo_teste),'nPassageiros':nPassageiros_predito })\n"
      ],
      "execution_count": 25,
      "outputs": []
    },
    {
      "cell_type": "code",
      "metadata": {
        "id": "3fQylILdIWY7"
      },
      "source": [
        "passageiros_teste = pd.DataFrame({'tempo':np.ndarray.flatten(tempo_teste),'nPassageiros':nPassageiros_teste })\n"
      ],
      "execution_count": 26,
      "outputs": []
    },
    {
      "cell_type": "code",
      "metadata": {
        "colab": {
          "base_uri": "https://localhost:8080/",
          "height": 279
        },
        "id": "kRHMtuoPIfJl",
        "outputId": "675b5ca7-4c37-482a-8bb6-be4492acce79"
      },
      "source": [
        "ax = sns.lineplot(x='tempo',y='nPassageiros',data=passageiros_teste,marker='o')\n",
        "ax =sns.lineplot(x='tempo', y='nPassageiros', data = passageiros_predito)"
      ],
      "execution_count": 35,
      "outputs": [
        {
          "output_type": "display_data",
          "data": {
            "image/png": "[encoded data removed]",
            "text/plain": [
              "<Figure size 432x288 with 1 Axes>"
            ]
          },
          "metadata": {
            "tags": [],
            "needs_background": "light"
          }
        }
      ]
    }
  ]
}