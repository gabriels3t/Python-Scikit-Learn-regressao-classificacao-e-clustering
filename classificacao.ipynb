{
  "nbformat": 4,
  "nbformat_minor": 0,
  "metadata": {
    "colab": {
      "name": "classificacao.ipynb",
      "provenance": [],
      "toc_visible": true,
      "authorship_tag": "ABX9TyMlWFLwbc8X+S86ZdNq4ZYf",
      "include_colab_link": true
    },
    "kernelspec": {
      "name": "python3",
      "display_name": "Python 3"
    }
  },
  "cells": [
    {
      "cell_type": "markdown",
      "metadata": {
        "id": "view-in-github",
        "colab_type": "text"
      },
      "source": [
        "<a href=\"https://colab.research.google.com/github/gabriels3t/Python-Scikit-Learn-regressao-classificacao-e-clustering/blob/main/classificacao.ipynb\" target=\"_parent\"><img src=\"https://colab.research.google.com/assets/colab-badge.svg\" alt=\"Open In Colab\"/></a>"
      ]
    },
    {
      "cell_type": "markdown",
      "metadata": {
        "id": "o6pRcglMa5p9"
      },
      "source": [
        "# importação \n"
      ]
    },
    {
      "cell_type": "code",
      "metadata": {
        "id": "D-KU0JNVaovR"
      },
      "source": [
        "import pandas as pd\n",
        "import seaborn as sns\n",
        "from sklearn import tree\n",
        "from sklearn.model_selection import  train_test_split \n",
        "import graphviz\n",
        "from sklearn.metrics import accuracy_score\n",
        "from sklearn.neighbors import KNeighborsClassifier\n",
        "from sklearn.model_selection import RepeatedStratifiedKFold\n",
        "from sklearn.model_selection import GridSearchCV"
      ],
      "execution_count": 55,
      "outputs": []
    },
    {
      "cell_type": "markdown",
      "metadata": {
        "id": "nUvB12NwbKmS"
      },
      "source": [
        "# Visualização"
      ]
    },
    {
      "cell_type": "code",
      "metadata": {
        "colab": {
          "base_uri": "https://localhost:8080/",
          "height": 206
        },
        "id": "fTvuLSI_bV1V",
        "outputId": "1e5b9480-85d1-4baa-85bf-dd44654efa3a"
      },
      "source": [
        "celular = pd.read_csv('data/Celular.csv')\n",
        "celular.head()"
      ],
      "execution_count": 2,
      "outputs": [
        {
          "output_type": "execute_result",
          "data": {
            "text/html": [
              "<div>\n",
              "<style scoped>\n",
              "    .dataframe tbody tr th:only-of-type {\n",
              "        vertical-align: middle;\n",
              "    }\n",
              "\n",
              "    .dataframe tbody tr th {\n",
              "        vertical-align: top;\n",
              "    }\n",
              "\n",
              "    .dataframe thead th {\n",
              "        text-align: right;\n",
              "    }\n",
              "</style>\n",
              "<table border=\"1\" class=\"dataframe\">\n",
              "  <thead>\n",
              "    <tr style=\"text-align: right;\">\n",
              "      <th></th>\n",
              "      <th>salario</th>\n",
              "      <th>economias</th>\n",
              "      <th>idade</th>\n",
              "      <th>dividas</th>\n",
              "      <th>plano</th>\n",
              "    </tr>\n",
              "  </thead>\n",
              "  <tbody>\n",
              "    <tr>\n",
              "      <th>0</th>\n",
              "      <td>5.1</td>\n",
              "      <td>3.5</td>\n",
              "      <td>1.4</td>\n",
              "      <td>0.2</td>\n",
              "      <td>1</td>\n",
              "    </tr>\n",
              "    <tr>\n",
              "      <th>1</th>\n",
              "      <td>4.9</td>\n",
              "      <td>3.0</td>\n",
              "      <td>1.4</td>\n",
              "      <td>0.2</td>\n",
              "      <td>1</td>\n",
              "    </tr>\n",
              "    <tr>\n",
              "      <th>2</th>\n",
              "      <td>4.7</td>\n",
              "      <td>3.2</td>\n",
              "      <td>1.3</td>\n",
              "      <td>0.2</td>\n",
              "      <td>1</td>\n",
              "    </tr>\n",
              "    <tr>\n",
              "      <th>3</th>\n",
              "      <td>4.6</td>\n",
              "      <td>3.1</td>\n",
              "      <td>1.5</td>\n",
              "      <td>0.2</td>\n",
              "      <td>1</td>\n",
              "    </tr>\n",
              "    <tr>\n",
              "      <th>4</th>\n",
              "      <td>5.0</td>\n",
              "      <td>3.6</td>\n",
              "      <td>1.4</td>\n",
              "      <td>0.2</td>\n",
              "      <td>1</td>\n",
              "    </tr>\n",
              "  </tbody>\n",
              "</table>\n",
              "</div>"
            ],
            "text/plain": [
              "   salario  economias  idade  dividas  plano\n",
              "0      5.1        3.5    1.4      0.2      1\n",
              "1      4.9        3.0    1.4      0.2      1\n",
              "2      4.7        3.2    1.3      0.2      1\n",
              "3      4.6        3.1    1.5      0.2      1\n",
              "4      5.0        3.6    1.4      0.2      1"
            ]
          },
          "metadata": {
            "tags": []
          },
          "execution_count": 2
        }
      ]
    },
    {
      "cell_type": "code",
      "metadata": {
        "colab": {
          "base_uri": "https://localhost:8080/",
          "height": 355
        },
        "id": "SJz4SvDOb-H0",
        "outputId": "a730107a-19bb-4d99-c01b-f4b67f131e24"
      },
      "source": [
        "sns.distplot(celular.plano,bins = 30, kde=False)"
      ],
      "execution_count": 7,
      "outputs": [
        {
          "output_type": "stream",
          "text": [
            "/usr/local/lib/python3.6/dist-packages/seaborn/distributions.py:2551: FutureWarning: `distplot` is a deprecated function and will be removed in a future version. Please adapt your code to use either `displot` (a figure-level function with similar flexibility) or `histplot` (an axes-level function for histograms).\n",
            "  warnings.warn(msg, FutureWarning)\n"
          ],
          "name": "stderr"
        },
        {
          "output_type": "execute_result",
          "data": {
            "text/plain": [
              "<matplotlib.axes._subplots.AxesSubplot at 0x7f858ce47e80>"
            ]
          },
          "metadata": {
            "tags": []
          },
          "execution_count": 7
        },
        {
          "output_type": "display_data",
          "data": {
            "image/png": "[encoded data removed]",
            "text/plain": [
              "<Figure size 432x288 with 1 Axes>"
            ]
          },
          "metadata": {
            "tags": [],
            "needs_background": "light"
          }
        }
      ]
    },
    {
      "cell_type": "markdown",
      "metadata": {
        "id": "7q7Jy_K6cek1"
      },
      "source": [
        "# Árvore de decisão"
      ]
    },
    {
      "cell_type": "code",
      "metadata": {
        "id": "8teU4GGjclVj"
      },
      "source": [
        "x= celular.iloc[:,:-1].values\n",
        "y = celular.iloc[:,4].values"
      ],
      "execution_count": 11,
      "outputs": []
    },
    {
      "cell_type": "markdown",
      "metadata": {
        "id": "vsc2i_tvdguy"
      },
      "source": [
        "**Treinando  **"
      ]
    },
    {
      "cell_type": "code",
      "metadata": {
        "id": "ms7jFQGbdHQT"
      },
      "source": [
        "x_treino,x_teste,y_treino,y_teste = train_test_split(x,y, test_size = 0.3)"
      ],
      "execution_count": 14,
      "outputs": []
    },
    {
      "cell_type": "code",
      "metadata": {
        "id": "w7-cJhDMeK1I"
      },
      "source": [
        "classificador_arvore = tree.DecisionTreeClassifier()"
      ],
      "execution_count": 17,
      "outputs": []
    },
    {
      "cell_type": "code",
      "metadata": {
        "colab": {
          "base_uri": "https://localhost:8080/"
        },
        "id": "bg3GNnHUegPA",
        "outputId": "61cf1432-f98f-4f48-8f6d-76d8a031e20b"
      },
      "source": [
        "classificador_arvore.fit(x_treino, y_treino) # Fazendo ajustes"
      ],
      "execution_count": 18,
      "outputs": [
        {
          "output_type": "execute_result",
          "data": {
            "text/plain": [
              "DecisionTreeClassifier(ccp_alpha=0.0, class_weight=None, criterion='gini',\n",
              "                       max_depth=None, max_features=None, max_leaf_nodes=None,\n",
              "                       min_impurity_decrease=0.0, min_impurity_split=None,\n",
              "                       min_samples_leaf=1, min_samples_split=2,\n",
              "                       min_weight_fraction_leaf=0.0, presort='deprecated',\n",
              "                       random_state=None, splitter='best')"
            ]
          },
          "metadata": {
            "tags": []
          },
          "execution_count": 18
        }
      ]
    },
    {
      "cell_type": "markdown",
      "metadata": {
        "id": "3G6eiNdMfMQI"
      },
      "source": [
        "**Fazendo um grafico de arvore**"
      ]
    },
    {
      "cell_type": "code",
      "metadata": {
        "id": "aMZyTdjveppL"
      },
      "source": [
        "dot_data = tree.export_graphviz(classificador_arvore,filled=True, out_file=None)\n"
      ],
      "execution_count": 21,
      "outputs": []
    },
    {
      "cell_type": "code",
      "metadata": {
        "id": "AqAjAOYHfDPD"
      },
      "source": [
        "graph = graphviz.Source(dot_data)"
      ],
      "execution_count": 22,
      "outputs": []
    },
    {
      "cell_type": "code",
      "metadata": {
        "colab": {
          "base_uri": "https://localhost:8080/",
          "height": 934
        },
        "id": "IJoAFhbkfPjS",
        "outputId": "83c5eb9e-103f-4393-83bb-9fac119a2822"
      },
      "source": [
        "graph "
      ],
      "execution_count": 24,
      "outputs": [
        {
          "output_type": "execute_result",
          "data": {
            "text/plain": [
              "<graphviz.files.Source at 0x7f8587e7d588>"
            ],
            "image/svg+xml": "<?xml version=\"1.0\" encoding=\"UTF-8\" standalone=\"no\"?>\n<!DOCTYPE svg PUBLIC \"-//W3C//DTD SVG 1.1//EN\"\n \"http://www.w3.org/Graphics/SVG/1.1/DTD/svg11.dtd\">\n<!-- Generated by graphviz version 2.40.1 (20161225.0304)\n -->\n<!-- Title: Tree Pages: 1 -->\n<svg width=\"520pt\" height=\"685pt\"\n viewBox=\"0.00 0.00 520.00 685.00\" xmlns=\"http://www.w3.org/2000/svg\" xmlns:xlink=\"http://www.w3.org/1999/xlink\">\n<g id=\"graph0\" class=\"graph\" transform=\"scale(1 1) rotate(0) translate(4 681)\">\n<title>Tree</title>\n<polygon fill=\"#ffffff\" stroke=\"transparent\" points=\"-4,4 -4,-681 516,-681 516,4 -4,4\"/>\n<!-- 0 -->\n<g id=\"node1\" class=\"node\">\n<title>0</title>\n<polygon fill=\"#fffdfc\" stroke=\"#000000\" points=\"251.5,-677 119.5,-677 119.5,-609 251.5,-609 251.5,-677\"/>\n<text text-anchor=\"middle\" x=\"185.5\" y=\"-661.8\" font-family=\"Times,serif\" font-size=\"14.00\" fill=\"#000000\">X[3] &lt;= 0.75</text>\n<text text-anchor=\"middle\" x=\"185.5\" y=\"-646.8\" font-family=\"Times,serif\" font-size=\"14.00\" fill=\"#000000\">gini = 0.665</text>\n<text text-anchor=\"middle\" x=\"185.5\" y=\"-631.8\" font-family=\"Times,serif\" font-size=\"14.00\" fill=\"#000000\">samples = 105</text>\n<text text-anchor=\"middle\" x=\"185.5\" y=\"-616.8\" font-family=\"Times,serif\" font-size=\"14.00\" fill=\"#000000\">value = [37, 32, 36]</text>\n</g>\n<!-- 1 -->\n<g id=\"node2\" class=\"node\">\n<title>1</title>\n<polygon fill=\"#e58139\" stroke=\"#000000\" points=\"175,-565.5 58,-565.5 58,-512.5 175,-512.5 175,-565.5\"/>\n<text text-anchor=\"middle\" x=\"116.5\" y=\"-550.3\" font-family=\"Times,serif\" font-size=\"14.00\" fill=\"#000000\">gini = 0.0</text>\n<text text-anchor=\"middle\" x=\"116.5\" y=\"-535.3\" font-family=\"Times,serif\" font-size=\"14.00\" fill=\"#000000\">samples = 37</text>\n<text text-anchor=\"middle\" x=\"116.5\" y=\"-520.3\" font-family=\"Times,serif\" font-size=\"14.00\" fill=\"#000000\">value = [37, 0, 0]</text>\n</g>\n<!-- 0&#45;&gt;1 -->\n<g id=\"edge1\" class=\"edge\">\n<title>0&#45;&gt;1</title>\n<path fill=\"none\" stroke=\"#000000\" d=\"M162.9068,-608.9465C155.4527,-597.7113 147.1533,-585.2021 139.6577,-573.9043\"/>\n<polygon fill=\"#000000\" stroke=\"#000000\" points=\"142.5547,-571.94 134.1097,-565.5422 136.7218,-575.81 142.5547,-571.94\"/>\n<text text-anchor=\"middle\" x=\"129.1523\" y=\"-586.3457\" font-family=\"Times,serif\" font-size=\"14.00\" fill=\"#000000\">True</text>\n</g>\n<!-- 2 -->\n<g id=\"node3\" class=\"node\">\n<title>2</title>\n<polygon fill=\"#f1e9fc\" stroke=\"#000000\" points=\"318,-573 193,-573 193,-505 318,-505 318,-573\"/>\n<text text-anchor=\"middle\" x=\"255.5\" y=\"-557.8\" font-family=\"Times,serif\" font-size=\"14.00\" fill=\"#000000\">X[2] &lt;= 4.75</text>\n<text text-anchor=\"middle\" x=\"255.5\" y=\"-542.8\" font-family=\"Times,serif\" font-size=\"14.00\" fill=\"#000000\">gini = 0.498</text>\n<text text-anchor=\"middle\" x=\"255.5\" y=\"-527.8\" font-family=\"Times,serif\" font-size=\"14.00\" fill=\"#000000\">samples = 68</text>\n<text text-anchor=\"middle\" x=\"255.5\" y=\"-512.8\" font-family=\"Times,serif\" font-size=\"14.00\" fill=\"#000000\">value = [0, 32, 36]</text>\n</g>\n<!-- 0&#45;&gt;2 -->\n<g id=\"edge2\" class=\"edge\">\n<title>0&#45;&gt;2</title>\n<path fill=\"none\" stroke=\"#000000\" d=\"M208.4206,-608.9465C214.2826,-600.2373 220.6598,-590.7626 226.773,-581.6801\"/>\n<polygon fill=\"#000000\" stroke=\"#000000\" points=\"229.8476,-583.3802 232.5279,-573.13 224.0405,-579.4716 229.8476,-583.3802\"/>\n<text text-anchor=\"middle\" x=\"237.3223\" y=\"-593.966\" font-family=\"Times,serif\" font-size=\"14.00\" fill=\"#000000\">False</text>\n</g>\n<!-- 3 -->\n<g id=\"node4\" class=\"node\">\n<title>3</title>\n<polygon fill=\"#40e685\" stroke=\"#000000\" points=\"247,-469 130,-469 130,-401 247,-401 247,-469\"/>\n<text text-anchor=\"middle\" x=\"188.5\" y=\"-453.8\" font-family=\"Times,serif\" font-size=\"14.00\" fill=\"#000000\">X[3] &lt;= 1.65</text>\n<text text-anchor=\"middle\" x=\"188.5\" y=\"-438.8\" font-family=\"Times,serif\" font-size=\"14.00\" fill=\"#000000\">gini = 0.064</text>\n<text text-anchor=\"middle\" x=\"188.5\" y=\"-423.8\" font-family=\"Times,serif\" font-size=\"14.00\" fill=\"#000000\">samples = 30</text>\n<text text-anchor=\"middle\" x=\"188.5\" y=\"-408.8\" font-family=\"Times,serif\" font-size=\"14.00\" fill=\"#000000\">value = [0, 29, 1]</text>\n</g>\n<!-- 2&#45;&gt;3 -->\n<g id=\"edge3\" class=\"edge\">\n<title>2&#45;&gt;3</title>\n<path fill=\"none\" stroke=\"#000000\" d=\"M233.5617,-504.9465C227.951,-496.2373 221.8471,-486.7626 215.9958,-477.6801\"/>\n<polygon fill=\"#000000\" stroke=\"#000000\" points=\"218.8457,-475.641 210.4876,-469.13 212.9611,-479.4321 218.8457,-475.641\"/>\n</g>\n<!-- 6 -->\n<g id=\"node7\" class=\"node\">\n<title>6</title>\n<polygon fill=\"#8c4ae7\" stroke=\"#000000\" points=\"382,-469 265,-469 265,-401 382,-401 382,-469\"/>\n<text text-anchor=\"middle\" x=\"323.5\" y=\"-453.8\" font-family=\"Times,serif\" font-size=\"14.00\" fill=\"#000000\">X[2] &lt;= 5.05</text>\n<text text-anchor=\"middle\" x=\"323.5\" y=\"-438.8\" font-family=\"Times,serif\" font-size=\"14.00\" fill=\"#000000\">gini = 0.145</text>\n<text text-anchor=\"middle\" x=\"323.5\" y=\"-423.8\" font-family=\"Times,serif\" font-size=\"14.00\" fill=\"#000000\">samples = 38</text>\n<text text-anchor=\"middle\" x=\"323.5\" y=\"-408.8\" font-family=\"Times,serif\" font-size=\"14.00\" fill=\"#000000\">value = [0, 3, 35]</text>\n</g>\n<!-- 2&#45;&gt;6 -->\n<g id=\"edge6\" class=\"edge\">\n<title>2&#45;&gt;6</title>\n<path fill=\"none\" stroke=\"#000000\" d=\"M277.7657,-504.9465C283.4602,-496.2373 289.6552,-486.7626 295.5938,-477.6801\"/>\n<polygon fill=\"#000000\" stroke=\"#000000\" points=\"298.6411,-479.4151 301.1842,-469.13 292.7823,-475.5843 298.6411,-479.4151\"/>\n</g>\n<!-- 4 -->\n<g id=\"node5\" class=\"node\">\n<title>4</title>\n<polygon fill=\"#39e581\" stroke=\"#000000\" points=\"117,-357.5 0,-357.5 0,-304.5 117,-304.5 117,-357.5\"/>\n<text text-anchor=\"middle\" x=\"58.5\" y=\"-342.3\" font-family=\"Times,serif\" font-size=\"14.00\" fill=\"#000000\">gini = 0.0</text>\n<text text-anchor=\"middle\" x=\"58.5\" y=\"-327.3\" font-family=\"Times,serif\" font-size=\"14.00\" fill=\"#000000\">samples = 29</text>\n<text text-anchor=\"middle\" x=\"58.5\" y=\"-312.3\" font-family=\"Times,serif\" font-size=\"14.00\" fill=\"#000000\">value = [0, 29, 0]</text>\n</g>\n<!-- 3&#45;&gt;4 -->\n<g id=\"edge4\" class=\"edge\">\n<title>3&#45;&gt;4</title>\n<path fill=\"none\" stroke=\"#000000\" d=\"M145.9331,-400.9465C131.063,-389.0504 114.4075,-375.726 99.6546,-363.9237\"/>\n<polygon fill=\"#000000\" stroke=\"#000000\" points=\"101.6729,-361.0561 91.6777,-357.5422 97.3,-366.5222 101.6729,-361.0561\"/>\n</g>\n<!-- 5 -->\n<g id=\"node6\" class=\"node\">\n<title>5</title>\n<polygon fill=\"#8139e5\" stroke=\"#000000\" points=\"245.5,-357.5 135.5,-357.5 135.5,-304.5 245.5,-304.5 245.5,-357.5\"/>\n<text text-anchor=\"middle\" x=\"190.5\" y=\"-342.3\" font-family=\"Times,serif\" font-size=\"14.00\" fill=\"#000000\">gini = 0.0</text>\n<text text-anchor=\"middle\" x=\"190.5\" y=\"-327.3\" font-family=\"Times,serif\" font-size=\"14.00\" fill=\"#000000\">samples = 1</text>\n<text text-anchor=\"middle\" x=\"190.5\" y=\"-312.3\" font-family=\"Times,serif\" font-size=\"14.00\" fill=\"#000000\">value = [0, 0, 1]</text>\n</g>\n<!-- 3&#45;&gt;5 -->\n<g id=\"edge5\" class=\"edge\">\n<title>3&#45;&gt;5</title>\n<path fill=\"none\" stroke=\"#000000\" d=\"M189.1549,-400.9465C189.3603,-390.2621 189.588,-378.4254 189.7966,-367.5742\"/>\n<polygon fill=\"#000000\" stroke=\"#000000\" points=\"193.2966,-367.6076 189.9896,-357.5422 186.2979,-367.473 193.2966,-367.6076\"/>\n</g>\n<!-- 7 -->\n<g id=\"node8\" class=\"node\">\n<title>7</title>\n<polygon fill=\"#cdb0f5\" stroke=\"#000000\" points=\"376.5,-365 266.5,-365 266.5,-297 376.5,-297 376.5,-365\"/>\n<text text-anchor=\"middle\" x=\"321.5\" y=\"-349.8\" font-family=\"Times,serif\" font-size=\"14.00\" fill=\"#000000\">X[1] &lt;= 2.9</text>\n<text text-anchor=\"middle\" x=\"321.5\" y=\"-334.8\" font-family=\"Times,serif\" font-size=\"14.00\" fill=\"#000000\">gini = 0.469</text>\n<text text-anchor=\"middle\" x=\"321.5\" y=\"-319.8\" font-family=\"Times,serif\" font-size=\"14.00\" fill=\"#000000\">samples = 8</text>\n<text text-anchor=\"middle\" x=\"321.5\" y=\"-304.8\" font-family=\"Times,serif\" font-size=\"14.00\" fill=\"#000000\">value = [0, 3, 5]</text>\n</g>\n<!-- 6&#45;&gt;7 -->\n<g id=\"edge7\" class=\"edge\">\n<title>6&#45;&gt;7</title>\n<path fill=\"none\" stroke=\"#000000\" d=\"M322.8451,-400.9465C322.688,-392.776 322.5179,-383.9318 322.3533,-375.3697\"/>\n<polygon fill=\"#000000\" stroke=\"#000000\" points=\"325.8481,-375.0608 322.1563,-365.13 318.8494,-375.1955 325.8481,-375.0608\"/>\n</g>\n<!-- 14 -->\n<g id=\"node15\" class=\"node\">\n<title>14</title>\n<polygon fill=\"#8139e5\" stroke=\"#000000\" points=\"512,-357.5 395,-357.5 395,-304.5 512,-304.5 512,-357.5\"/>\n<text text-anchor=\"middle\" x=\"453.5\" y=\"-342.3\" font-family=\"Times,serif\" font-size=\"14.00\" fill=\"#000000\">gini = 0.0</text>\n<text text-anchor=\"middle\" x=\"453.5\" y=\"-327.3\" font-family=\"Times,serif\" font-size=\"14.00\" fill=\"#000000\">samples = 30</text>\n<text text-anchor=\"middle\" x=\"453.5\" y=\"-312.3\" font-family=\"Times,serif\" font-size=\"14.00\" fill=\"#000000\">value = [0, 0, 30]</text>\n</g>\n<!-- 6&#45;&gt;14 -->\n<g id=\"edge14\" class=\"edge\">\n<title>6&#45;&gt;14</title>\n<path fill=\"none\" stroke=\"#000000\" d=\"M366.0669,-400.9465C380.937,-389.0504 397.5925,-375.726 412.3454,-363.9237\"/>\n<polygon fill=\"#000000\" stroke=\"#000000\" points=\"414.7,-366.5222 420.3223,-357.5422 410.3271,-361.0561 414.7,-366.5222\"/>\n</g>\n<!-- 8 -->\n<g id=\"node9\" class=\"node\">\n<title>8</title>\n<polygon fill=\"#8139e5\" stroke=\"#000000\" points=\"312.5,-253.5 202.5,-253.5 202.5,-200.5 312.5,-200.5 312.5,-253.5\"/>\n<text text-anchor=\"middle\" x=\"257.5\" y=\"-238.3\" font-family=\"Times,serif\" font-size=\"14.00\" fill=\"#000000\">gini = 0.0</text>\n<text text-anchor=\"middle\" x=\"257.5\" y=\"-223.3\" font-family=\"Times,serif\" font-size=\"14.00\" fill=\"#000000\">samples = 4</text>\n<text text-anchor=\"middle\" x=\"257.5\" y=\"-208.3\" font-family=\"Times,serif\" font-size=\"14.00\" fill=\"#000000\">value = [0, 0, 4]</text>\n</g>\n<!-- 7&#45;&gt;8 -->\n<g id=\"edge8\" class=\"edge\">\n<title>7&#45;&gt;8</title>\n<path fill=\"none\" stroke=\"#000000\" d=\"M300.544,-296.9465C293.6978,-285.8215 286.0829,-273.4473 279.1843,-262.237\"/>\n<polygon fill=\"#000000\" stroke=\"#000000\" points=\"282.0555,-260.2244 273.8336,-253.5422 276.0939,-263.8931 282.0555,-260.2244\"/>\n</g>\n<!-- 9 -->\n<g id=\"node10\" class=\"node\">\n<title>9</title>\n<polygon fill=\"#7beeab\" stroke=\"#000000\" points=\"440.5,-261 330.5,-261 330.5,-193 440.5,-193 440.5,-261\"/>\n<text text-anchor=\"middle\" x=\"385.5\" y=\"-245.8\" font-family=\"Times,serif\" font-size=\"14.00\" fill=\"#000000\">X[1] &lt;= 3.05</text>\n<text text-anchor=\"middle\" x=\"385.5\" y=\"-230.8\" font-family=\"Times,serif\" font-size=\"14.00\" fill=\"#000000\">gini = 0.375</text>\n<text text-anchor=\"middle\" x=\"385.5\" y=\"-215.8\" font-family=\"Times,serif\" font-size=\"14.00\" fill=\"#000000\">samples = 4</text>\n<text text-anchor=\"middle\" x=\"385.5\" y=\"-200.8\" font-family=\"Times,serif\" font-size=\"14.00\" fill=\"#000000\">value = [0, 3, 1]</text>\n</g>\n<!-- 7&#45;&gt;9 -->\n<g id=\"edge9\" class=\"edge\">\n<title>7&#45;&gt;9</title>\n<path fill=\"none\" stroke=\"#000000\" d=\"M342.456,-296.9465C347.8155,-288.2373 353.6461,-278.7626 359.2353,-269.6801\"/>\n<polygon fill=\"#000000\" stroke=\"#000000\" points=\"362.2367,-271.481 364.4969,-261.13 356.2751,-267.8122 362.2367,-271.481\"/>\n</g>\n<!-- 10 -->\n<g id=\"node11\" class=\"node\">\n<title>10</title>\n<polygon fill=\"#ffffff\" stroke=\"#000000\" points=\"376.5,-157 266.5,-157 266.5,-89 376.5,-89 376.5,-157\"/>\n<text text-anchor=\"middle\" x=\"321.5\" y=\"-141.8\" font-family=\"Times,serif\" font-size=\"14.00\" fill=\"#000000\">X[2] &lt;= 4.9</text>\n<text text-anchor=\"middle\" x=\"321.5\" y=\"-126.8\" font-family=\"Times,serif\" font-size=\"14.00\" fill=\"#000000\">gini = 0.5</text>\n<text text-anchor=\"middle\" x=\"321.5\" y=\"-111.8\" font-family=\"Times,serif\" font-size=\"14.00\" fill=\"#000000\">samples = 2</text>\n<text text-anchor=\"middle\" x=\"321.5\" y=\"-96.8\" font-family=\"Times,serif\" font-size=\"14.00\" fill=\"#000000\">value = [0, 1, 1]</text>\n</g>\n<!-- 9&#45;&gt;10 -->\n<g id=\"edge10\" class=\"edge\">\n<title>9&#45;&gt;10</title>\n<path fill=\"none\" stroke=\"#000000\" d=\"M364.544,-192.9465C359.1845,-184.2373 353.3539,-174.7626 347.7647,-165.6801\"/>\n<polygon fill=\"#000000\" stroke=\"#000000\" points=\"350.7249,-163.8122 342.5031,-157.13 344.7633,-167.481 350.7249,-163.8122\"/>\n</g>\n<!-- 13 -->\n<g id=\"node14\" class=\"node\">\n<title>13</title>\n<polygon fill=\"#39e581\" stroke=\"#000000\" points=\"504.5,-149.5 394.5,-149.5 394.5,-96.5 504.5,-96.5 504.5,-149.5\"/>\n<text text-anchor=\"middle\" x=\"449.5\" y=\"-134.3\" font-family=\"Times,serif\" font-size=\"14.00\" fill=\"#000000\">gini = 0.0</text>\n<text text-anchor=\"middle\" x=\"449.5\" y=\"-119.3\" font-family=\"Times,serif\" font-size=\"14.00\" fill=\"#000000\">samples = 2</text>\n<text text-anchor=\"middle\" x=\"449.5\" y=\"-104.3\" font-family=\"Times,serif\" font-size=\"14.00\" fill=\"#000000\">value = [0, 2, 0]</text>\n</g>\n<!-- 9&#45;&gt;13 -->\n<g id=\"edge13\" class=\"edge\">\n<title>9&#45;&gt;13</title>\n<path fill=\"none\" stroke=\"#000000\" d=\"M406.456,-192.9465C413.3022,-181.8215 420.9171,-169.4473 427.8157,-158.237\"/>\n<polygon fill=\"#000000\" stroke=\"#000000\" points=\"430.9061,-159.8931 433.1664,-149.5422 424.9445,-156.2244 430.9061,-159.8931\"/>\n</g>\n<!-- 11 -->\n<g id=\"node12\" class=\"node\">\n<title>11</title>\n<polygon fill=\"#8139e5\" stroke=\"#000000\" points=\"312.5,-53 202.5,-53 202.5,0 312.5,0 312.5,-53\"/>\n<text text-anchor=\"middle\" x=\"257.5\" y=\"-37.8\" font-family=\"Times,serif\" font-size=\"14.00\" fill=\"#000000\">gini = 0.0</text>\n<text text-anchor=\"middle\" x=\"257.5\" y=\"-22.8\" font-family=\"Times,serif\" font-size=\"14.00\" fill=\"#000000\">samples = 1</text>\n<text text-anchor=\"middle\" x=\"257.5\" y=\"-7.8\" font-family=\"Times,serif\" font-size=\"14.00\" fill=\"#000000\">value = [0, 0, 1]</text>\n</g>\n<!-- 10&#45;&gt;11 -->\n<g id=\"edge11\" class=\"edge\">\n<title>10&#45;&gt;11</title>\n<path fill=\"none\" stroke=\"#000000\" d=\"M298.936,-88.9777C293.1059,-80.187 286.8169,-70.7044 280.943,-61.8477\"/>\n<polygon fill=\"#000000\" stroke=\"#000000\" points=\"283.6838,-59.6478 275.2399,-53.2485 277.8502,-63.5167 283.6838,-59.6478\"/>\n</g>\n<!-- 12 -->\n<g id=\"node13\" class=\"node\">\n<title>12</title>\n<polygon fill=\"#39e581\" stroke=\"#000000\" points=\"440.5,-53 330.5,-53 330.5,0 440.5,0 440.5,-53\"/>\n<text text-anchor=\"middle\" x=\"385.5\" y=\"-37.8\" font-family=\"Times,serif\" font-size=\"14.00\" fill=\"#000000\">gini = 0.0</text>\n<text text-anchor=\"middle\" x=\"385.5\" y=\"-22.8\" font-family=\"Times,serif\" font-size=\"14.00\" fill=\"#000000\">samples = 1</text>\n<text text-anchor=\"middle\" x=\"385.5\" y=\"-7.8\" font-family=\"Times,serif\" font-size=\"14.00\" fill=\"#000000\">value = [0, 1, 0]</text>\n</g>\n<!-- 10&#45;&gt;12 -->\n<g id=\"edge12\" class=\"edge\">\n<title>10&#45;&gt;12</title>\n<path fill=\"none\" stroke=\"#000000\" d=\"M344.064,-88.9777C349.8941,-80.187 356.1831,-70.7044 362.057,-61.8477\"/>\n<polygon fill=\"#000000\" stroke=\"#000000\" points=\"365.1498,-63.5167 367.7601,-53.2485 359.3162,-59.6478 365.1498,-63.5167\"/>\n</g>\n</g>\n</svg>\n"
          },
          "metadata": {
            "tags": []
          },
          "execution_count": 24
        }
      ]
    },
    {
      "cell_type": "markdown",
      "metadata": {
        "id": "h_2JnKNffz0N"
      },
      "source": [
        "**Fazendo predições**"
      ]
    },
    {
      "cell_type": "code",
      "metadata": {
        "id": "MATpAzdjfw8y"
      },
      "source": [
        "plano_previsto =  classificador_arvore.predict(x_teste)"
      ],
      "execution_count": 25,
      "outputs": []
    },
    {
      "cell_type": "code",
      "metadata": {
        "colab": {
          "base_uri": "https://localhost:8080/"
        },
        "id": "F8zBjQTLgAE-",
        "outputId": "71a76f11-bf44-4cfa-983f-93cc494df9b5"
      },
      "source": [
        "plano_previsto"
      ],
      "execution_count": 26,
      "outputs": [
        {
          "output_type": "execute_result",
          "data": {
            "text/plain": [
              "array([1, 3, 3, 2, 3, 2, 3, 2, 3, 1, 1, 2, 3, 3, 2, 1, 3, 3, 1, 1, 3, 3,\n",
              "       2, 2, 2, 2, 2, 1, 1, 2, 1, 2, 1, 1, 3, 2, 2, 3, 2, 3, 3, 1, 3, 3,\n",
              "       1])"
            ]
          },
          "metadata": {
            "tags": []
          },
          "execution_count": 26
        }
      ]
    },
    {
      "cell_type": "code",
      "metadata": {
        "colab": {
          "base_uri": "https://localhost:8080/",
          "height": 341
        },
        "id": "zvT7-dh3gDlb",
        "outputId": "fa104f47-ace0-4606-e912-2b070120bbef"
      },
      "source": [
        "sns.distplot(y_teste,bins=6,kde=False)\n",
        "sns.distplot(plano_previsto,bins=4, kde = False)"
      ],
      "execution_count": 30,
      "outputs": [
        {
          "output_type": "stream",
          "text": [
            "/usr/local/lib/python3.6/dist-packages/seaborn/distributions.py:2551: FutureWarning: `distplot` is a deprecated function and will be removed in a future version. Please adapt your code to use either `displot` (a figure-level function with similar flexibility) or `histplot` (an axes-level function for histograms).\n",
            "  warnings.warn(msg, FutureWarning)\n"
          ],
          "name": "stderr"
        },
        {
          "output_type": "execute_result",
          "data": {
            "text/plain": [
              "<matplotlib.axes._subplots.AxesSubplot at 0x7f8587d764a8>"
            ]
          },
          "metadata": {
            "tags": []
          },
          "execution_count": 30
        },
        {
          "output_type": "display_data",
          "data": {
            "image/png": "[encoded data removed]",
            "text/plain": [
              "<Figure size 432x288 with 1 Axes>"
            ]
          },
          "metadata": {
            "tags": [],
            "needs_background": "light"
          }
        }
      ]
    },
    {
      "cell_type": "markdown",
      "metadata": {
        "id": "PFUvI15zgoHi"
      },
      "source": [
        "** Vendo a porcentagem de acerto com accuracy**"
      ]
    },
    {
      "cell_type": "code",
      "metadata": {
        "colab": {
          "base_uri": "https://localhost:8080/"
        },
        "id": "5U72a0EggncW",
        "outputId": "7ae379c4-acdd-46a6-cf53-6a101ee44263"
      },
      "source": [
        "porcentagem_de_acerto = accuracy_score(y_teste,plano_previsto)*100\n",
        "print(f'A porcentagem de acerto foi de {porcentagem_de_acerto.round(2)} %')"
      ],
      "execution_count": 39,
      "outputs": [
        {
          "output_type": "stream",
          "text": [
            "A porcentagem de acerto foi de 93.33 %\n"
          ],
          "name": "stdout"
        }
      ]
    },
    {
      "cell_type": "markdown",
      "metadata": {
        "id": "uCjqUbQrhkhD"
      },
      "source": [
        "# Classificação com K vizinhos mais proximos"
      ]
    },
    {
      "cell_type": "code",
      "metadata": {
        "id": "CeSv57eChwjc"
      },
      "source": [
        "  classificador_vizinho = KNeighborsClassifier(5) # considerando 5 vizinhos usando 5 pq vai ser utilizado 3 classes (dividas, salarios e plano) \n",
        "# assim nao tem igual e nem múltiplo do número de classes."
      ],
      "execution_count": 42,
      "outputs": []
    },
    {
      "cell_type": "code",
      "metadata": {
        "colab": {
          "base_uri": "https://localhost:8080/"
        },
        "id": "FtY5458Uiuj7",
        "outputId": "d6829e34-4077-4023-a070-4c57ebe0b017"
      },
      "source": [
        "classificador_vizinho.fit(x_treino,y_treino)"
      ],
      "execution_count": 43,
      "outputs": [
        {
          "output_type": "execute_result",
          "data": {
            "text/plain": [
              "KNeighborsClassifier(algorithm='auto', leaf_size=30, metric='minkowski',\n",
              "                     metric_params=None, n_jobs=None, n_neighbors=5, p=2,\n",
              "                     weights='uniform')"
            ]
          },
          "metadata": {
            "tags": []
          },
          "execution_count": 43
        }
      ]
    },
    {
      "cell_type": "code",
      "metadata": {
        "id": "R_L4qBL-i2bp"
      },
      "source": [
        "plano_previsto_v = classificador_vizinho.predict(x_teste)"
      ],
      "execution_count": 45,
      "outputs": []
    },
    {
      "cell_type": "code",
      "metadata": {
        "colab": {
          "base_uri": "https://localhost:8080/",
          "height": 341
        },
        "id": "B5OOMttJjAlB",
        "outputId": "ee1855c2-a516-49ba-a21f-ef56e715f4d5"
      },
      "source": [
        "sns.distplot(y_teste,bins=6, kde = False)\n",
        "sns.distplot(plano_previsto_v,bins=6, kde = False)"
      ],
      "execution_count": 46,
      "outputs": [
        {
          "output_type": "stream",
          "text": [
            "/usr/local/lib/python3.6/dist-packages/seaborn/distributions.py:2551: FutureWarning: `distplot` is a deprecated function and will be removed in a future version. Please adapt your code to use either `displot` (a figure-level function with similar flexibility) or `histplot` (an axes-level function for histograms).\n",
            "  warnings.warn(msg, FutureWarning)\n"
          ],
          "name": "stderr"
        },
        {
          "output_type": "execute_result",
          "data": {
            "text/plain": [
              "<matplotlib.axes._subplots.AxesSubplot at 0x7f8587c750b8>"
            ]
          },
          "metadata": {
            "tags": []
          },
          "execution_count": 46
        },
        {
          "output_type": "display_data",
          "data": {
            "image/png": "[encoded data removed]",
            "text/plain": [
              "<Figure size 432x288 with 1 Axes>"
            ]
          },
          "metadata": {
            "tags": [],
            "needs_background": "light"
          }
        }
      ]
    },
    {
      "cell_type": "code",
      "metadata": {
        "colab": {
          "base_uri": "https://localhost:8080/"
        },
        "id": "_s5r6qtPjSPV",
        "outputId": "1304df74-6efc-4b35-eb94-0ef64a06b191"
      },
      "source": [
        "porcentagem_de_acerto = accuracy_score(y_teste,plano_previsto_v)*100\n",
        "print(f'A porcentagem de acerto foi de {porcentagem_de_acerto.round(2)} %')"
      ],
      "execution_count": 48,
      "outputs": [
        {
          "output_type": "stream",
          "text": [
            "A porcentagem de acerto foi de 95.56 %\n"
          ],
          "name": "stdout"
        }
      ]
    },
    {
      "cell_type": "code",
      "metadata": {
        "id": "T5ag95qzjZXb"
      },
      "source": [
        ""
      ],
      "execution_count": null,
      "outputs": []
    },
    {
      "cell_type": "markdown",
      "metadata": {
        "id": "-sJRT1sFodrF"
      },
      "source": [
        "# Sobreajuste e divisão em treino e teste"
      ]
    },
    {
      "cell_type": "code",
      "metadata": {
        "id": "hXYxEgnbojTK"
      },
      "source": [
        "plano_previsto_v2 = classificador_vizinho.predict(x_treino)"
      ],
      "execution_count": 49,
      "outputs": []
    },
    {
      "cell_type": "code",
      "metadata": {
        "colab": {
          "base_uri": "https://localhost:8080/"
        },
        "id": "6vr7sdRro5Gc",
        "outputId": "c645dad7-4697-4d5f-efe6-ac8c354494fa"
      },
      "source": [
        "porcentagem_de_acerto = accuracy_score(y_treino,plano_previsto_v2)*100\n",
        "print(f'A porcentagem de acerto foi de {porcentagem_de_acerto.round(2)} %') \n",
        "# Geralmente em dados de treino o acerto seja maior"
      ],
      "execution_count": 52,
      "outputs": [
        {
          "output_type": "stream",
          "text": [
            "A porcentagem de acerto foi de 99.05 %\n"
          ],
          "name": "stdout"
        }
      ]
    },
    {
      "cell_type": "markdown",
      "metadata": {
        "id": "C4lKyIhEpcN0"
      },
      "source": [
        "**Estratificação Cruzada**"
      ]
    },
    {
      "cell_type": "code",
      "metadata": {
        "id": "TMzlpjVjpdQ0"
      },
      "source": [
        "skfold = RepeatedStratifiedKFold(n_splits= 10,n_repeats=10,random_state=0) \n",
        "# n_splits= numero de divisoes  n_repeats = numero de repetição"
      ],
      "execution_count": 54,
      "outputs": []
    },
    {
      "cell_type": "code",
      "metadata": {
        "id": "hqqqS4C3qhYT"
      },
      "source": [
        "params = {'n_neighbors':[5]}"
      ],
      "execution_count": 56,
      "outputs": []
    },
    {
      "cell_type": "code",
      "metadata": {
        "id": "q-nN6s9Yp0tT"
      },
      "source": [
        "gs = GridSearchCV(estimator=KNeighborsClassifier(),param_grid=params,cv =skfold, verbose=1,scoring='accuracy',return_train_score=True)"
      ],
      "execution_count": 57,
      "outputs": []
    },
    {
      "cell_type": "code",
      "metadata": {
        "colab": {
          "base_uri": "https://localhost:8080/"
        },
        "id": "ur4vqz1kqqyB",
        "outputId": "69c56129-fab3-45cd-de58-e3e950c84b1b"
      },
      "source": [
        "gs.fit(x,y)"
      ],
      "execution_count": 58,
      "outputs": [
        {
          "output_type": "stream",
          "text": [
            "Fitting 100 folds for each of 1 candidates, totalling 100 fits\n"
          ],
          "name": "stdout"
        },
        {
          "output_type": "stream",
          "text": [
            "[Parallel(n_jobs=1)]: Using backend SequentialBackend with 1 concurrent workers.\n",
            "[Parallel(n_jobs=1)]: Done 100 out of 100 | elapsed:    0.7s finished\n"
          ],
          "name": "stderr"
        },
        {
          "output_type": "execute_result",
          "data": {
            "text/plain": [
              "GridSearchCV(cv=RepeatedStratifiedKFold(n_repeats=10, n_splits=10, random_state=0),\n",
              "             error_score=nan,\n",
              "             estimator=KNeighborsClassifier(algorithm='auto', leaf_size=30,\n",
              "                                            metric='minkowski',\n",
              "                                            metric_params=None, n_jobs=None,\n",
              "                                            n_neighbors=5, p=2,\n",
              "                                            weights='uniform'),\n",
              "             iid='deprecated', n_jobs=None, param_grid={'n_neighbors': [5]},\n",
              "             pre_dispatch='2*n_jobs', refit=True, return_train_score=True,\n",
              "             scoring='accuracy', verbose=1)"
            ]
          },
          "metadata": {
            "tags": []
          },
          "execution_count": 58
        }
      ]
    },
    {
      "cell_type": "code",
      "metadata": {
        "colab": {
          "base_uri": "https://localhost:8080/"
        },
        "id": "GPCMhaGUqvl-",
        "outputId": "be1b48b4-3db8-4a48-d6cf-2f27ea4b7d3b"
      },
      "source": [
        "\n",
        "gs.cv_results_['mean_test_score']"
      ],
      "execution_count": 59,
      "outputs": [
        {
          "output_type": "execute_result",
          "data": {
            "text/plain": [
              "array([0.964])"
            ]
          },
          "metadata": {
            "tags": []
          },
          "execution_count": 59
        }
      ]
    },
    {
      "cell_type": "code",
      "metadata": {
        "colab": {
          "base_uri": "https://localhost:8080/"
        },
        "id": "fEfuQ0mOq7dk",
        "outputId": "0a52d86b-ac05-46f9-da86-205a7aca5a14"
      },
      "source": [
        "porcentagem_de_acerto = gs.cv_results_['mean_test_score']*100\n",
        "print(f'A porcentagem de acerto foi de {porcentagem_de_acerto[0].round(2)} %') "
      ],
      "execution_count": 61,
      "outputs": [
        {
          "output_type": "stream",
          "text": [
            "A porcentagem de acerto foi de 96.4 %\n"
          ],
          "name": "stdout"
        }
      ]
    }
  ]
}